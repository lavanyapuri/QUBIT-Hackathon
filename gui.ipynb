{
 "cells": [
  {
   "cell_type": "code",
   "execution_count": 1,
   "id": "e102249c",
   "metadata": {},
   "outputs": [],
   "source": [
    "import json \n",
    "import numpy as np\n",
    "from tensorflow import keras\n",
    "from sklearn.preprocessing import LabelEncoder\n",
    "import nltk\n",
    "from nltk.stem import WordNetLemmatizer\n",
    "lemmatizer = WordNetLemmatizer()\n",
    "import pickle\n",
    "import numpy as np\n",
    "from keras.models import load_model\n",
    "model = keras.models.load_model('chat_model')\n",
    "import json\n",
    "import random\n",
    "intents = json.loads(open('intents.json').read())"
   ]
  },
  {
   "cell_type": "code",
   "execution_count": 36,
   "id": "08d90aca",
   "metadata": {},
   "outputs": [
    {
     "name": "stdout",
     "output_type": "stream",
     "text": [
      "Bot: 1. English\n",
      "2.हिन्दी\n",
      "3.தமிழ்\n",
      "User: \n",
      "2\n"
     ]
    }
   ],
   "source": [
    "print(\"Bot: \" + \"1. English\\n2.हिन्दी\\n3.தமிழ்\")\n",
    "print(\"User: \")\n",
    "lang = \"en\"\n",
    "msg = input()\n",
    "if msg != '':\n",
    "    if msg == \"2\":\n",
    "        lang = \"hi\"\n",
    "    elif msg == \"3\":\n",
    "        lang = \"ta\""
   ]
  },
  {
   "cell_type": "code",
   "execution_count": 37,
   "id": "a7d1b2b6",
   "metadata": {},
   "outputs": [],
   "source": [
    "# For translation\n",
    "from deep_translator import GoogleTranslator\n",
    "\n",
    "# Creating GUI with tkinter\n",
    "import tkinter\n",
    "from tkinter import *\n",
    "\n",
    "# load tokenizer object\n",
    "with open('tokenizer.pickle', 'rb') as handle:\n",
    "    tokenizer = pickle.load(handle)\n",
    "\n",
    "# load label encoder object\n",
    "with open('label_encoder.pickle', 'rb') as enc:\n",
    "    lbl_encoder = pickle.load(enc)\n",
    "\n",
    "# parameters\n",
    "max_len = 20\n",
    "\n",
    "\n",
    "def send():\n",
    "\n",
    "    translator = GoogleTranslator(source=lang, target='en')\n",
    "    translatorRev = GoogleTranslator(source=\"en\", target=lang)\n",
    "\n",
    "    msg = EntryBox.get(\"1.0\",'end-1c').strip()\n",
    "    EntryBox.delete(\"0.0\",END)\n",
    "\n",
    "    if msg != '':\n",
    "        ChatLog.config(state=NORMAL)\n",
    "        ChatLog.insert(END, \"You: \" + msg + '\\n\\n')\n",
    "        ChatLog.config(foreground=\"#442265\", font=(\"Verdana\", 12 ))\n",
    "        msg = translator.translate(msg)\n",
    "        result = model.predict(keras.preprocessing.sequence.pad_sequences(tokenizer.texts_to_sequences([msg]), truncating='post', maxlen=max_len))\n",
    "        tag = lbl_encoder.inverse_transform([np.argmax(result)])\n",
    "        for i in intents['intents']:\n",
    "            if i['tag'] == tag:\n",
    "                res = np.random.choice(i['responses'])\n",
    "                res = translatorRev.translate(res)\n",
    "        ChatLog.insert(END, \"Bot: \" + res + '\\n\\n')\n",
    "\n",
    "        ChatLog.config(state=DISABLED)\n",
    "        ChatLog.yview(END)\n",
    "\n",
    "base = Tk()\n",
    "base.title(\"Admission Chatbot\")\n",
    "base.geometry(\"600x500\")\n",
    "base.resizable(width=FALSE, height=FALSE)\n",
    "\n",
    "#Create Chat window\n",
    "ChatLog = Text(base, bd=0, bg=\"white\", height=\"8\", width=\"50\", font=\"Arial\",)\n",
    "\n",
    "ChatLog.config(state=DISABLED)\n",
    "\n",
    "#Bind scrollbar to Chat window\n",
    "scrollbar = Scrollbar(base, command=ChatLog.yview, cursor=\"heart\")\n",
    "ChatLog['yscrollcommand'] = scrollbar.set\n",
    "\n",
    "#Create Button to send message\n",
    "SendButton = Button(base, font=(\"Verdana\",12,'bold'), text=\"Send\", width=\"12\", height=5,\n",
    "                    bd=0, bg=\"#4266f5\", activebackground=\"#2841a6\",fg='#ffffff',\n",
    "                    command= send )\n",
    "\n",
    "#Create the box to enter message\n",
    "EntryBox = Text(base, bd=0, bg=\"white\",width=\"29\", height=\"5\", font=\"Arial\")\n",
    "#EntryBox.bind(\"<Return>\", send)\n",
    "\n",
    "\n",
    "#Place all components on the screen\n",
    "scrollbar.place(x=576,y=6, height=386)\n",
    "ChatLog.place(x=6,y=6, height=386, width=570)\n",
    "EntryBox.place(x=128, y=401, height=90, width=565)\n",
    "SendButton.place(x=6, y=401, height=90)\n",
    "\n",
    "base.mainloop()"
   ]
  },
  {
   "cell_type": "code",
   "execution_count": null,
   "id": "6bde4f5f",
   "metadata": {},
   "outputs": [],
   "source": []
  }
 ],
 "metadata": {
  "kernelspec": {
   "display_name": "Python 3 (ipykernel)",
   "language": "python",
   "name": "python3"
  },
  "language_info": {
   "codemirror_mode": {
    "name": "ipython",
    "version": 3
   },
   "file_extension": ".py",
   "mimetype": "text/x-python",
   "name": "python",
   "nbconvert_exporter": "python",
   "pygments_lexer": "ipython3",
   "version": "3.9.7"
  }
 },
 "nbformat": 4,
 "nbformat_minor": 5
}
